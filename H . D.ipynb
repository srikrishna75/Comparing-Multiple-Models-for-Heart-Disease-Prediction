{
 "cells": [
  {
   "cell_type": "code",
   "execution_count": 1,
   "metadata": {},
   "outputs": [],
   "source": [
    "import numpy as np\n",
    "import pandas as pd \n",
    "\n",
    "import seaborn as sns \n",
    "import matplotlib.pyplot as plt\n",
    "\n",
    "from sklearn.model_selection import train_test_split\n",
    "\n",
    "from sklearn.preprocessing import StandardScaler\n",
    "\n",
    "from sklearn.linear_model import LogisticRegression\n",
    "from sklearn.tree import DecisionTreeClassifier\n",
    "from sklearn.naive_bayes import GaussianNB\n",
    "from sklearn.svm import SVC\n",
    "\n",
    "from sklearn.ensemble import RandomForestClassifier,VotingClassifier,AdaBoostClassifier,BaggingClassifier\n",
    "import xgboost as xgb\n",
    "\n",
    "from sklearn import metrics"
   ]
  },
  {
   "cell_type": "code",
   "execution_count": 222,
   "metadata": {},
   "outputs": [],
   "source": [
    "from prettytable import PrettyTable"
   ]
  },
  {
   "cell_type": "code",
   "execution_count": 248,
   "metadata": {},
   "outputs": [],
   "source": [
    "df=pd.read_csv('heart.csv')"
   ]
  },
  {
   "cell_type": "code",
   "execution_count": 249,
   "metadata": {},
   "outputs": [
    {
     "data": {
      "text/html": [
       "<div>\n",
       "<style scoped>\n",
       "    .dataframe tbody tr th:only-of-type {\n",
       "        vertical-align: middle;\n",
       "    }\n",
       "\n",
       "    .dataframe tbody tr th {\n",
       "        vertical-align: top;\n",
       "    }\n",
       "\n",
       "    .dataframe thead th {\n",
       "        text-align: right;\n",
       "    }\n",
       "</style>\n",
       "<table border=\"1\" class=\"dataframe\">\n",
       "  <thead>\n",
       "    <tr style=\"text-align: right;\">\n",
       "      <th></th>\n",
       "      <th>age</th>\n",
       "      <th>sex</th>\n",
       "      <th>cp</th>\n",
       "      <th>trestbps</th>\n",
       "      <th>chol</th>\n",
       "      <th>fbs</th>\n",
       "      <th>restecg</th>\n",
       "      <th>thalach</th>\n",
       "      <th>exang</th>\n",
       "      <th>oldpeak</th>\n",
       "      <th>slope</th>\n",
       "      <th>ca</th>\n",
       "      <th>thal</th>\n",
       "      <th>target</th>\n",
       "    </tr>\n",
       "  </thead>\n",
       "  <tbody>\n",
       "    <tr>\n",
       "      <th>0</th>\n",
       "      <td>63</td>\n",
       "      <td>1</td>\n",
       "      <td>3</td>\n",
       "      <td>145</td>\n",
       "      <td>233</td>\n",
       "      <td>1</td>\n",
       "      <td>0</td>\n",
       "      <td>150</td>\n",
       "      <td>0</td>\n",
       "      <td>2.3</td>\n",
       "      <td>0</td>\n",
       "      <td>0</td>\n",
       "      <td>1</td>\n",
       "      <td>1</td>\n",
       "    </tr>\n",
       "    <tr>\n",
       "      <th>1</th>\n",
       "      <td>37</td>\n",
       "      <td>1</td>\n",
       "      <td>2</td>\n",
       "      <td>130</td>\n",
       "      <td>250</td>\n",
       "      <td>0</td>\n",
       "      <td>1</td>\n",
       "      <td>187</td>\n",
       "      <td>0</td>\n",
       "      <td>3.5</td>\n",
       "      <td>0</td>\n",
       "      <td>0</td>\n",
       "      <td>2</td>\n",
       "      <td>1</td>\n",
       "    </tr>\n",
       "    <tr>\n",
       "      <th>2</th>\n",
       "      <td>41</td>\n",
       "      <td>0</td>\n",
       "      <td>1</td>\n",
       "      <td>130</td>\n",
       "      <td>204</td>\n",
       "      <td>0</td>\n",
       "      <td>0</td>\n",
       "      <td>172</td>\n",
       "      <td>0</td>\n",
       "      <td>1.4</td>\n",
       "      <td>2</td>\n",
       "      <td>0</td>\n",
       "      <td>2</td>\n",
       "      <td>1</td>\n",
       "    </tr>\n",
       "    <tr>\n",
       "      <th>3</th>\n",
       "      <td>56</td>\n",
       "      <td>1</td>\n",
       "      <td>1</td>\n",
       "      <td>120</td>\n",
       "      <td>236</td>\n",
       "      <td>0</td>\n",
       "      <td>1</td>\n",
       "      <td>178</td>\n",
       "      <td>0</td>\n",
       "      <td>0.8</td>\n",
       "      <td>2</td>\n",
       "      <td>0</td>\n",
       "      <td>2</td>\n",
       "      <td>1</td>\n",
       "    </tr>\n",
       "    <tr>\n",
       "      <th>4</th>\n",
       "      <td>57</td>\n",
       "      <td>0</td>\n",
       "      <td>0</td>\n",
       "      <td>120</td>\n",
       "      <td>354</td>\n",
       "      <td>0</td>\n",
       "      <td>1</td>\n",
       "      <td>163</td>\n",
       "      <td>1</td>\n",
       "      <td>0.6</td>\n",
       "      <td>2</td>\n",
       "      <td>0</td>\n",
       "      <td>2</td>\n",
       "      <td>1</td>\n",
       "    </tr>\n",
       "  </tbody>\n",
       "</table>\n",
       "</div>"
      ],
      "text/plain": [
       "   age  sex  cp  trestbps  chol  fbs  restecg  thalach  exang  oldpeak  slope  \\\n",
       "0   63    1   3       145   233    1        0      150      0      2.3      0   \n",
       "1   37    1   2       130   250    0        1      187      0      3.5      0   \n",
       "2   41    0   1       130   204    0        0      172      0      1.4      2   \n",
       "3   56    1   1       120   236    0        1      178      0      0.8      2   \n",
       "4   57    0   0       120   354    0        1      163      1      0.6      2   \n",
       "\n",
       "   ca  thal  target  \n",
       "0   0     1       1  \n",
       "1   0     2       1  \n",
       "2   0     2       1  \n",
       "3   0     2       1  \n",
       "4   0     2       1  "
      ]
     },
     "execution_count": 249,
     "metadata": {},
     "output_type": "execute_result"
    }
   ],
   "source": [
    "df.head()"
   ]
  },
  {
   "cell_type": "code",
   "execution_count": 250,
   "metadata": {},
   "outputs": [
    {
     "data": {
      "text/plain": [
       "age          41\n",
       "sex           2\n",
       "cp            4\n",
       "trestbps     49\n",
       "chol        152\n",
       "fbs           2\n",
       "restecg       3\n",
       "thalach      91\n",
       "exang         2\n",
       "oldpeak      40\n",
       "slope         3\n",
       "ca            5\n",
       "thal          4\n",
       "target        2\n",
       "dtype: int64"
      ]
     },
     "execution_count": 250,
     "metadata": {},
     "output_type": "execute_result"
    }
   ],
   "source": [
    "df.nunique()"
   ]
  },
  {
   "cell_type": "code",
   "execution_count": 251,
   "metadata": {},
   "outputs": [
    {
     "name": "stdout",
     "output_type": "stream",
     "text": [
      "<class 'pandas.core.frame.DataFrame'>\n",
      "RangeIndex: 303 entries, 0 to 302\n",
      "Data columns (total 14 columns):\n",
      "age         303 non-null int64\n",
      "sex         303 non-null int64\n",
      "cp          303 non-null int64\n",
      "trestbps    303 non-null int64\n",
      "chol        303 non-null int64\n",
      "fbs         303 non-null int64\n",
      "restecg     303 non-null int64\n",
      "thalach     303 non-null int64\n",
      "exang       303 non-null int64\n",
      "oldpeak     303 non-null float64\n",
      "slope       303 non-null int64\n",
      "ca          303 non-null int64\n",
      "thal        303 non-null int64\n",
      "target      303 non-null int64\n",
      "dtypes: float64(1), int64(13)\n",
      "memory usage: 33.2 KB\n"
     ]
    }
   ],
   "source": [
    "df.info()"
   ]
  },
  {
   "cell_type": "code",
   "execution_count": 252,
   "metadata": {},
   "outputs": [
    {
     "data": {
      "text/plain": [
       "age         0\n",
       "sex         0\n",
       "cp          0\n",
       "trestbps    0\n",
       "chol        0\n",
       "fbs         0\n",
       "restecg     0\n",
       "thalach     0\n",
       "exang       0\n",
       "oldpeak     0\n",
       "slope       0\n",
       "ca          0\n",
       "thal        0\n",
       "target      0\n",
       "dtype: int64"
      ]
     },
     "execution_count": 252,
     "metadata": {},
     "output_type": "execute_result"
    }
   ],
   "source": [
    "df.isnull().sum()"
   ]
  },
  {
   "cell_type": "markdown",
   "metadata": {},
   "source": [
    "## cross_tab is one of the commonly used method used in EDA "
   ]
  },
  {
   "cell_type": "code",
   "execution_count": 267,
   "metadata": {},
   "outputs": [
    {
     "data": {
      "text/html": [
       "<div>\n",
       "<style scoped>\n",
       "    .dataframe tbody tr th:only-of-type {\n",
       "        vertical-align: middle;\n",
       "    }\n",
       "\n",
       "    .dataframe tbody tr th {\n",
       "        vertical-align: top;\n",
       "    }\n",
       "\n",
       "    .dataframe thead th {\n",
       "        text-align: right;\n",
       "    }\n",
       "</style>\n",
       "<table border=\"1\" class=\"dataframe\">\n",
       "  <thead>\n",
       "    <tr style=\"text-align: right;\">\n",
       "      <th>sex</th>\n",
       "      <th>0</th>\n",
       "      <th>1</th>\n",
       "    </tr>\n",
       "    <tr>\n",
       "      <th>row_0</th>\n",
       "      <th></th>\n",
       "      <th></th>\n",
       "    </tr>\n",
       "  </thead>\n",
       "  <tbody>\n",
       "    <tr>\n",
       "      <th>303</th>\n",
       "      <td>96</td>\n",
       "      <td>207</td>\n",
       "    </tr>\n",
       "  </tbody>\n",
       "</table>\n",
       "</div>"
      ],
      "text/plain": [
       "sex     0    1\n",
       "row_0         \n",
       "303    96  207"
      ]
     },
     "execution_count": 267,
     "metadata": {},
     "output_type": "execute_result"
    }
   ],
   "source": [
    "pd.crosstab(df.target.count(),df.sex)"
   ]
  },
  {
   "cell_type": "code",
   "execution_count": 268,
   "metadata": {},
   "outputs": [],
   "source": [
    "data = df.copy(deep=True)"
   ]
  },
  {
   "cell_type": "markdown",
   "metadata": {},
   "source": [
    "# how to handle outliers "
   ]
  },
  {
   "cell_type": "code",
   "execution_count": 269,
   "metadata": {},
   "outputs": [],
   "source": [
    "from scipy import stats\n",
    "data_out = data[np.abs((stats.zscore(data)) < 3) .all(axis=1)].copy()"
   ]
  },
  {
   "cell_type": "markdown",
   "metadata": {},
   "source": [
    "### above i showed the technique to handle outliers but i did not removed the outliers because in health every report is important and although there are very few rows in give dataset so that is the reason i did not eliminated the outliers"
   ]
  },
  {
   "cell_type": "code",
   "execution_count": 270,
   "metadata": {},
   "outputs": [],
   "source": [
    "df1_y=df.iloc[:,-1]\n",
    "df1_x=df.iloc[:,:-1]"
   ]
  },
  {
   "cell_type": "code",
   "execution_count": 271,
   "metadata": {},
   "outputs": [],
   "source": [
    "x1train,x1test,y1train,y1test=train_test_split(df1_x,df1_y,random_state=43)"
   ]
  },
  {
   "cell_type": "code",
   "execution_count": 272,
   "metadata": {},
   "outputs": [
    {
     "name": "stderr",
     "output_type": "stream",
     "text": [
      "C:\\Users\\KRISH8\\Anaconda3\\lib\\site-packages\\sklearn\\preprocessing\\data.py:625: DataConversionWarning: Data with input dtype int64, float64 were all converted to float64 by StandardScaler.\n",
      "  return self.partial_fit(X, y)\n",
      "C:\\Users\\KRISH8\\Anaconda3\\lib\\site-packages\\sklearn\\base.py:462: DataConversionWarning: Data with input dtype int64, float64 were all converted to float64 by StandardScaler.\n",
      "  return self.fit(X, **fit_params).transform(X)\n",
      "C:\\Users\\KRISH8\\Anaconda3\\lib\\site-packages\\ipykernel_launcher.py:3: DataConversionWarning: Data with input dtype int64, float64 were all converted to float64 by StandardScaler.\n",
      "  This is separate from the ipykernel package so we can avoid doing imports until\n"
     ]
    }
   ],
   "source": [
    "sc1=StandardScaler()\n",
    "X1train=sc1.fit_transform(x1train)\n",
    "X1test=sc1.transform(x1test)"
   ]
  },
  {
   "cell_type": "markdown",
   "metadata": {},
   "source": [
    "# Logistic Regression"
   ]
  },
  {
   "cell_type": "code",
   "execution_count": 273,
   "metadata": {},
   "outputs": [
    {
     "name": "stdout",
     "output_type": "stream",
     "text": [
      "accuracy  0.8947368421052632\n",
      "recall 1.0\n",
      "precision 0.8333333333333334\n",
      "F1 0.9090909090909091\n",
      "roc_auc_score 0.8888888888888888\n",
      "              precision    recall  f1-score   support\n",
      "\n",
      "           0       1.00      0.78      0.88        36\n",
      "           1       0.83      1.00      0.91        40\n",
      "\n",
      "   micro avg       0.89      0.89      0.89        76\n",
      "   macro avg       0.92      0.89      0.89        76\n",
      "weighted avg       0.91      0.89      0.89        76\n",
      "\n",
      "[[28  8]\n",
      " [ 0 40]]\n"
     ]
    },
    {
     "name": "stderr",
     "output_type": "stream",
     "text": [
      "C:\\Users\\KRISH8\\Anaconda3\\lib\\site-packages\\sklearn\\linear_model\\logistic.py:433: FutureWarning: Default solver will be changed to 'lbfgs' in 0.22. Specify a solver to silence this warning.\n",
      "  FutureWarning)\n"
     ]
    }
   ],
   "source": [
    "LR1 = LogisticRegression(random_state=1)\n",
    "LR1.fit(X1train,y1train)\n",
    "LR_o_pre = LR1.predict(X1test)\n",
    "\n",
    "\n",
    "print('accuracy ',metrics.accuracy_score(y1test,LR_o_pre))\n",
    "print('recall',metrics.recall_score(y1test,LR_o_pre))\n",
    "print('precision',metrics.precision_score(y1test,LR_o_pre))\n",
    "print('F1',metrics.f1_score(y1test,LR_o_pre))\n",
    "print('roc_auc_score',metrics.roc_auc_score(y1test,LR_o_pre))\n",
    "print(metrics.classification_report(y1test,LR_o_pre))\n",
    "\n",
    "print(metrics.confusion_matrix(y1test,LR_o_pre))\n",
    "\n"
   ]
  },
  {
   "cell_type": "code",
   "execution_count": 274,
   "metadata": {},
   "outputs": [],
   "source": [
    "fpr1, tpr1, threshold = metrics.roc_curve(y1test,LR_o_pre)\n",
    "roc_auc1 = metrics.auc(fpr1, tpr1)"
   ]
  },
  {
   "cell_type": "markdown",
   "metadata": {},
   "source": [
    "# DecissionTree"
   ]
  },
  {
   "cell_type": "code",
   "execution_count": 276,
   "metadata": {},
   "outputs": [
    {
     "name": "stdout",
     "output_type": "stream",
     "text": [
      "accuracy  0.7894736842105263\n",
      "precision 0.8157894736842105\n",
      "recall 0.775\n",
      "F1 0.7948717948717949\n",
      "roc_auc_score 0.7902777777777777\n",
      "[[29  7]\n",
      " [ 9 31]]\n",
      "              precision    recall  f1-score   support\n",
      "\n",
      "           0       0.76      0.81      0.78        36\n",
      "           1       0.82      0.78      0.79        40\n",
      "\n",
      "   micro avg       0.79      0.79      0.79        76\n",
      "   macro avg       0.79      0.79      0.79        76\n",
      "weighted avg       0.79      0.79      0.79        76\n",
      "\n"
     ]
    }
   ],
   "source": [
    "dt1=DecisionTreeClassifier(criterion='gini',random_state=67)\n",
    "dt1.fit(X1train,y1train)\n",
    "dt_o_pre = dt1.predict(X1test)\n",
    "\n",
    "print('accuracy ',metrics.accuracy_score(y1test,dt_o_pre))\n",
    "print('precision',metrics.precision_score(y1test,dt_o_pre))\n",
    "print('recall',metrics.recall_score(y1test,dt_o_pre))\n",
    "print('F1',metrics.f1_score(y1test,dt_o_pre))\n",
    "print('roc_auc_score',metrics.roc_auc_score(y1test,dt_o_pre))\n",
    "print(metrics.confusion_matrix(y1test,dt_o_pre))\n",
    "print(metrics.classification_report(y1test,dt_o_pre))"
   ]
  },
  {
   "cell_type": "code",
   "execution_count": 277,
   "metadata": {},
   "outputs": [],
   "source": [
    "fpr2, tpr2, threshold = metrics.roc_curve(y1test,dt_o_pre)\n",
    "roc_auc2 = metrics.auc(fpr2, tpr2)"
   ]
  },
  {
   "cell_type": "markdown",
   "metadata": {},
   "source": [
    "# RandomForest"
   ]
  },
  {
   "cell_type": "code",
   "execution_count": 278,
   "metadata": {},
   "outputs": [
    {
     "name": "stdout",
     "output_type": "stream",
     "text": [
      "accuracy  0.8157894736842105\n",
      "precision 0.782608695652174\n",
      "recall 0.9\n",
      "F1 0.8372093023255814\n",
      "roc_auc_score 0.8111111111111111\n",
      "[[26 10]\n",
      " [ 4 36]]\n",
      "              precision    recall  f1-score   support\n",
      "\n",
      "           0       0.87      0.72      0.79        36\n",
      "           1       0.78      0.90      0.84        40\n",
      "\n",
      "   micro avg       0.82      0.82      0.82        76\n",
      "   macro avg       0.82      0.81      0.81        76\n",
      "weighted avg       0.82      0.82      0.81        76\n",
      "\n"
     ]
    }
   ],
   "source": [
    "rf_o = RandomForestClassifier(random_state=60,n_estimators=29)\n",
    "rf_o.fit(X1train,y1train)\n",
    "rf_o_pre=rf_o.predict(X1test)\n",
    "\n",
    "print('accuracy ',metrics.accuracy_score(y1test,rf_o_pre))\n",
    "print('precision',metrics.precision_score(y1test,rf_o_pre))\n",
    "print('recall',metrics.recall_score(y1test,rf_o_pre))\n",
    "print('F1',metrics.f1_score(y1test,rf_o_pre))\n",
    "print('roc_auc_score',metrics.roc_auc_score(y1test,rf_o_pre))\n",
    "print(metrics.confusion_matrix(y1test,rf_o_pre))\n",
    "print(metrics.classification_report(y1test,rf_o_pre))\n"
   ]
  },
  {
   "cell_type": "code",
   "execution_count": 279,
   "metadata": {},
   "outputs": [],
   "source": [
    "fpr6, tpr6, threshold = metrics.roc_curve(y1test,rf_o_pre)\n",
    "roc_auc6 = metrics.auc(fpr6, tpr6)"
   ]
  },
  {
   "cell_type": "markdown",
   "metadata": {},
   "source": [
    "# Bagging"
   ]
  },
  {
   "cell_type": "code",
   "execution_count": 286,
   "metadata": {},
   "outputs": [
    {
     "name": "stdout",
     "output_type": "stream",
     "text": [
      "0.8157894736842105\n",
      "0.782608695652174\n",
      "0.9\n",
      "0.8372093023255814\n",
      "0.8111111111111111\n"
     ]
    }
   ],
   "source": [
    "bg_o = BaggingClassifier(DecisionTreeClassifier(),n_estimators=11,random_state=5)\n",
    "bg_o.fit(X1train,y1train)\n",
    "bg_o_pre = bg_o.predict(X1test)\n",
    "\n",
    "print(metrics.accuracy_score(y1test,bg_o_pre))\n",
    "print(metrics.precision_score(y1test,bg_o_pre))\n",
    "print(metrics.recall_score(y1test,bg_o_pre))\n",
    "print(metrics.f1_score(y1test,bg_o_pre))\n",
    "print(metrics.roc_auc_score(y1test,bg_o_pre))"
   ]
  },
  {
   "cell_type": "code",
   "execution_count": 287,
   "metadata": {},
   "outputs": [],
   "source": [
    "fpr3, tpr3, threshold = metrics.roc_curve(y1test,bg_o_pre)\n",
    "roc_auc3 = metrics.auc(fpr3, tpr3)"
   ]
  },
  {
   "cell_type": "markdown",
   "metadata": {},
   "source": [
    "# AdaBoost"
   ]
  },
  {
   "cell_type": "code",
   "execution_count": 288,
   "metadata": {},
   "outputs": [
    {
     "name": "stdout",
     "output_type": "stream",
     "text": [
      "0.8421052631578947\n",
      "0.85\n",
      "0.85\n",
      "0.85\n",
      "0.8416666666666667\n"
     ]
    }
   ],
   "source": [
    "ab_o = AdaBoostClassifier(DecisionTreeClassifier(),random_state=13,n_estimators=20,learning_rate=1)\n",
    "ab_o.fit(X1train,y1train)\n",
    "ab_0_pre = ab_o.predict(X1test)\n",
    "    \n",
    "print(metrics.accuracy_score(y1test,ab_0_pre))\n",
    "print(metrics.precision_score(y1test,ab_0_pre))\n",
    "print(metrics.recall_score(y1test,ab_0_pre))\n",
    "print(metrics.f1_score(y1test,ab_0_pre))\n",
    "print(metrics.roc_auc_score(y1test,ab_0_pre))"
   ]
  },
  {
   "cell_type": "code",
   "execution_count": 289,
   "metadata": {},
   "outputs": [],
   "source": [
    "fpr4, tpr4, threshold = metrics.roc_curve(y1test,ab_0_pre)\n",
    "roc_auc4 = metrics.auc(fpr4, tpr4)"
   ]
  },
  {
   "cell_type": "markdown",
   "metadata": {},
   "source": [
    "# Voting classifier"
   ]
  },
  {
   "cell_type": "code",
   "execution_count": 321,
   "metadata": {},
   "outputs": [],
   "source": []
  },
  {
   "cell_type": "code",
   "execution_count": 344,
   "metadata": {},
   "outputs": [
    {
     "name": "stdout",
     "output_type": "stream",
     "text": [
      "0.881578947368421\n",
      "0.8444444444444444\n",
      "0.95\n",
      "0.8941176470588236\n",
      "0.8777777777777778\n",
      "[[29  7]\n",
      " [ 2 38]]\n"
     ]
    },
    {
     "name": "stderr",
     "output_type": "stream",
     "text": [
      "C:\\Users\\KRISH8\\Anaconda3\\lib\\site-packages\\sklearn\\linear_model\\logistic.py:433: FutureWarning: Default solver will be changed to 'lbfgs' in 0.22. Specify a solver to silence this warning.\n",
      "  FutureWarning)\n",
      "C:\\Users\\KRISH8\\Anaconda3\\lib\\site-packages\\sklearn\\ensemble\\forest.py:246: FutureWarning: The default value of n_estimators will change from 10 in version 0.20 to 100 in 0.22.\n",
      "  \"10 in version 0.20 to 100 in 0.22.\", FutureWarning)\n"
     ]
    }
   ],
   "source": [
    "lr=LogisticRegression(random_state=2)\n",
    "rf =RandomForestClassifier(random_state=60)\n",
    "svm = SVC(random_state=20,kernel='poly')\n",
    "nb=GaussianNB()\n",
    "vc_o = VotingClassifier(estimators=[('lr',lr),('rf',rf),('svm',svm),('nb',nb)],voting='hard')\n",
    "vc_o=vc_o.fit(X1train,y1train)\n",
    "vc_0_pre=vc_o.predict(X1test)\n",
    "\n",
    "print(metrics.accuracy_score(y1test,vc_0_pre))\n",
    "print(metrics.precision_score(y1test,vc_0_pre))\n",
    "print(metrics.recall_score(y1test,vc_0_pre))\n",
    "print(metrics.f1_score(y1test,vc_0_pre))\n",
    "print(metrics.roc_auc_score(y1test,vc_0_pre))\n",
    "print(metrics.confusion_matrix(y1test,vc_0_pre))"
   ]
  },
  {
   "cell_type": "code",
   "execution_count": 345,
   "metadata": {},
   "outputs": [],
   "source": [
    "fpr5, tpr5, threshold = metrics.roc_curve(y1test,vc_0_pre)\n",
    "roc_auc5 = metrics.auc(fpr5, tpr5)"
   ]
  },
  {
   "cell_type": "code",
   "execution_count": 347,
   "metadata": {},
   "outputs": [],
   "source": [
    "t = PrettyTable(['Model', 'Accuracy', 'Recall','Precision','F1','roc_auc'])\n",
    "t.add_row(['Random Forest',82,78,90,84,81])\n",
    "t.add_row(['Logistic Regression',90,100,83,91,89])\n",
    "t.add_row(['DecisionTree',79,82,78,79,79])\n",
    "t.add_row(['Voting Classifier',89,84,95,90,88])\n",
    "t.add_row(['Bagging',82,77,93,84,81])\n",
    "t.add_row(['AdaBooating',84,85,85,85,84])"
   ]
  },
  {
   "cell_type": "code",
   "execution_count": 348,
   "metadata": {},
   "outputs": [
    {
     "name": "stdout",
     "output_type": "stream",
     "text": [
      "+---------------------+----------+--------+-----------+----+---------+\n",
      "|        Model        | Accuracy | Recall | Precision | F1 | roc_auc |\n",
      "+---------------------+----------+--------+-----------+----+---------+\n",
      "|    Random Forest    |    82    |   78   |     90    | 84 |    81   |\n",
      "| Logistic Regression |    90    |  100   |     83    | 91 |    89   |\n",
      "|     DecisionTree    |    79    |   82   |     78    | 79 |    79   |\n",
      "|  Voting Classifier  |    89    |   84   |     95    | 90 |    88   |\n",
      "|       Bagging       |    82    |   77   |     93    | 84 |    81   |\n",
      "|     AdaBooating     |    84    |   85   |     85    | 85 |    84   |\n",
      "+---------------------+----------+--------+-----------+----+---------+\n"
     ]
    }
   ],
   "source": [
    "print(t)"
   ]
  },
  {
   "cell_type": "code",
   "execution_count": null,
   "metadata": {},
   "outputs": [],
   "source": []
  }
 ],
 "metadata": {
  "kernelspec": {
   "display_name": "Python 3",
   "language": "python",
   "name": "python3"
  },
  "language_info": {
   "codemirror_mode": {
    "name": "ipython",
    "version": 3
   },
   "file_extension": ".py",
   "mimetype": "text/x-python",
   "name": "python",
   "nbconvert_exporter": "python",
   "pygments_lexer": "ipython3",
   "version": "3.6.5"
  }
 },
 "nbformat": 4,
 "nbformat_minor": 2
}
